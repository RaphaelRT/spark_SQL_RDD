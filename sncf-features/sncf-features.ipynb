{
 "cells": [
  {
   "cell_type": "markdown",
   "metadata": {
    "cell_id": "41e4c6df-c2a3-4f8e-b5eb-7a70ad671bce",
    "deepnote_cell_type": "markdown",
    "tags": []
   },
   "source": [
    "# Estimation du prix et analyse sur la distance et le prix des trajets en train SNCF"
   ]
  },
  {
   "cell_type": "markdown",
   "metadata": {
    "cell_id": "00001-367062b3-fa63-4328-9a63-e6fb618bed98",
    "deepnote_cell_type": "markdown",
    "tags": []
   },
   "source": [
    "## 1. Installations des librairies"
   ]
  },
  {
   "cell_type": "code",
   "execution_count": 2,
   "metadata": {
    "cell_id": "00001-6986946f-e87c-4c78-ba59-004bce4ca343",
    "deepnote_cell_type": "code",
    "deepnote_to_be_reexecuted": false,
    "execution_millis": 24113,
    "execution_start": 1617210392531,
    "source_hash": "2838bb14",
    "tags": []
   },
   "outputs": [
    {
     "name": "stdout",
     "output_type": "stream",
     "text": [
      "Requirement already satisfied: pyspark in /Users/raphaelrobert/py_projects/virtual_environment/md4/lib/python3.7/site-packages (3.1.1)\n",
      "Requirement already satisfied: py4j==0.10.9 in /Users/raphaelrobert/py_projects/virtual_environment/md4/lib/python3.7/site-packages (from pyspark) (0.10.9)\n",
      "Requirement already satisfied: geopy in /Users/raphaelrobert/py_projects/virtual_environment/md4/lib/python3.7/site-packages (2.1.0)\n",
      "Requirement already satisfied: geographiclib<2,>=1.49 in /Users/raphaelrobert/py_projects/virtual_environment/md4/lib/python3.7/site-packages (from geopy) (1.50)\n",
      "Requirement already satisfied: python-Levenshtein in /Users/raphaelrobert/py_projects/virtual_environment/md4/lib/python3.7/site-packages (0.12.2)\n",
      "Requirement already satisfied: setuptools in /Users/raphaelrobert/py_projects/virtual_environment/md4/lib/python3.7/site-packages (from python-Levenshtein) (47.1.0)\n"
     ]
    }
   ],
   "source": [
    "!pip install pyspark\n",
    "!pip install geopy\n",
    "!pip install python-Levenshtein"
   ]
  },
  {
   "cell_type": "markdown",
   "metadata": {
    "cell_id": "00003-66cab622-971f-4d5a-83e5-68ec95d1df89",
    "deepnote_cell_type": "markdown",
    "tags": []
   },
   "source": [
    "## 2. Import des librairies"
   ]
  },
  {
   "cell_type": "code",
   "execution_count": 3,
   "metadata": {
    "cell_id": "00002-b21fdbb6-ebec-423f-9d5f-0dc89e303d18",
    "deepnote_cell_type": "code",
    "deepnote_to_be_reexecuted": false,
    "execution_millis": 1606,
    "execution_start": 1617210416649,
    "source_hash": "d88bcd10",
    "tags": []
   },
   "outputs": [],
   "source": [
    "import re\n",
    "import pandas as pd\n",
    "import numpy as np\n",
    "from geopy.geocoders import Nominatim\n",
    "import pyspark\n",
    "from pyspark.sql import SparkSession\n",
    "from pyspark.sql.functions import regexp_replace, lit\n",
    "from pyspark.sql.types import StructType, StructField, StringType, FloatType\n",
    "import matplotlib.pyplot as plt\n",
    "import seaborn as sns\n",
    "import geopy.distance\n",
    "from geopy import Point\n",
    "from geopy.distance import geodesic, lonlat\n",
    "from decimal import Decimal\n",
    "from difflib import SequenceMatcher\n",
    "import Levenshtein"
   ]
  },
  {
   "cell_type": "code",
   "execution_count": 4,
   "metadata": {
    "cell_id": "00003-43f411f7-fac1-4724-b51d-31693a0613a5",
    "deepnote_cell_type": "code",
    "deepnote_to_be_reexecuted": false,
    "execution_millis": 8977,
    "execution_start": 1617210418256,
    "source_hash": "ccccffa1",
    "tags": []
   },
   "outputs": [
    {
     "name": "stdout",
     "output_type": "stream",
     "text": [
      "Spark is ready with CPU usage : 12\n"
     ]
    }
   ],
   "source": [
    "# create SparkSession\n",
    "spark = SparkSession.builder.master(\"local[*]\") \\\n",
    "                    .appName('SparkSNCF') \\\n",
    "                    .getOrCreate()\n",
    "\n",
    "# extract SparkContext\n",
    "sc = spark.sparkContext\n",
    "\n",
    "print('Spark is ready with CPU usage :', sc.defaultParallelism)"
   ]
  },
  {
   "cell_type": "markdown",
   "metadata": {
    "cell_id": "00007-6fa80a14-1b3d-49b2-9d13-a7574f50c482",
    "deepnote_cell_type": "markdown",
    "tags": []
   },
   "source": [
    "## 3. Import des données"
   ]
  },
  {
   "cell_type": "markdown",
   "metadata": {
    "cell_id": "00007-4655089f-f5dd-4d6a-88d7-22315307afe7",
    "deepnote_cell_type": "markdown",
    "tags": []
   },
   "source": [
    "Two datasets:\n",
    "- Tarifs TGV par trajet SNCF\n",
    "- Gares de voyageurs SNCF"
   ]
  },
  {
   "cell_type": "code",
   "execution_count": 7,
   "metadata": {
    "cell_id": "0b9b7a2b-9e8b-458b-90e1-e03933d2c995",
    "deepnote_cell_type": "code",
    "deepnote_to_be_reexecuted": false,
    "execution_millis": 8814,
    "execution_start": 1617210427239,
    "output_cleared": false,
    "source_hash": "9764e27d",
    "tags": []
   },
   "outputs": [],
   "source": [
    "# Load the data set\n",
    "df_gare_prix_sql = spark.read.option(\"delimiter\", \";\").option(\"header\",True).csv(\"./data/tarifs-tgv-par-od.csv\")\n",
    "df_gare_loc_sql = spark.read.option(\"delimiter\", \";\").option(\"header\",True).csv(\"./data/referentiel-gares-voyageurs.csv\")"
   ]
  },
  {
   "cell_type": "markdown",
   "metadata": {
    "cell_id": "00009-beaeab39-0260-4ce0-a527-50a47f434e1c",
    "deepnote_cell_type": "markdown",
    "tags": []
   },
   "source": [
    "## 4. Nettoyage des données"
   ]
  },
  {
   "cell_type": "code",
   "execution_count": 8,
   "metadata": {
    "cell_id": "00010-a9c7869b-8822-47c6-87d3-0895ddb9989d",
    "deepnote_cell_type": "code",
    "deepnote_to_be_reexecuted": false,
    "execution_millis": 89,
    "execution_start": 1617210436073,
    "source_hash": "b547117b",
    "tags": []
   },
   "outputs": [],
   "source": [
    "df_gare_loc_sql = df_gare_loc_sql.withColumn('Intitulé gare', regexp_replace('Intitulé gare', \"'\", \" \"))"
   ]
  },
  {
   "cell_type": "code",
   "execution_count": 9,
   "metadata": {
    "cell_id": "00008-cd139d94-3362-4ee5-a450-604d1f1f8158",
    "deepnote_cell_type": "code",
    "deepnote_to_be_reexecuted": false,
    "execution_millis": 4,
    "execution_start": 1617210436175,
    "source_hash": "288464e1",
    "tags": []
   },
   "outputs": [],
   "source": [
    "noms_gare_originals = [\n",
    "    'AIX-LES-BAINS - LE REVARD', \n",
    "    'VITRY-LE-FRANÇOIS', \n",
    "    'BELFORT-MONTBELIARD TGV', \n",
    "    'ST AVRE - LA CHAMBRE', \n",
    "    'BESANCON FRANCHE-COMTE TGV']"
   ]
  },
  {
   "cell_type": "code",
   "execution_count": 10,
   "metadata": {
    "cell_id": "00007-cf23e111-960a-4941-b2b8-313ab50f3510",
    "deepnote_cell_type": "code",
    "deepnote_to_be_reexecuted": false,
    "execution_millis": 22,
    "execution_start": 1617210436187,
    "source_hash": "b8f28d35",
    "tags": []
   },
   "outputs": [],
   "source": [
    "def remove_hyphen(df, noms_gare):\n",
    "    if noms_gare:\n",
    "        df = df.withColumn('OD', regexp_replace('OD', noms_gare[0], re.sub('\\s*-\\s*', ' ', noms_gare[0])))\n",
    "        return remove_hyphen(df, noms_gare[1:])\n",
    "    return df"
   ]
  },
  {
   "cell_type": "code",
   "execution_count": 11,
   "metadata": {
    "cell_id": "00006-13fa76b8-02eb-4b73-8efd-cb7c330b4b5c",
    "deepnote_cell_type": "code",
    "deepnote_to_be_reexecuted": false,
    "execution_millis": 688,
    "execution_start": 1617210436210,
    "source_hash": "972f9730",
    "tags": []
   },
   "outputs": [],
   "source": [
    "remove_hyphen(df_gare_prix_sql, noms_gare_originals).createOrReplaceTempView(\"sncf_tgv\")"
   ]
  },
  {
   "cell_type": "code",
   "execution_count": 12,
   "metadata": {
    "cell_id": "00008-b47c237e-06c6-49c4-a35a-ec1b94248859",
    "deepnote_cell_type": "code",
    "deepnote_to_be_reexecuted": false,
    "execution_millis": 474,
    "execution_start": 1617210436903,
    "source_hash": "729fdb31",
    "tags": []
   },
   "outputs": [],
   "source": [
    "df_tgv_1er = spark.sql(\n",
    "    \"SELECT \\\n",
    "    TRIM(SPLIT(OD, '-')[0]) AS Origine, \\\n",
    "    TRIM(SPLIT(OD, '-')[1]) AS Destination, \\\n",
    "    ROUND(TRIM(`1ère classe`), 2) AS Prix_1er, \\\n",
    "    ROUND(TRIM(`Plein Tarif Loisir 2nde`), 2) AS Prix_2eme \\\n",
    "    FROM sncf_tgv \\\n",
    "    WHERE Commentaires IS NULL OR Commentaires NOT LIKE '%jusqu%'\")"
   ]
  },
  {
   "cell_type": "code",
   "execution_count": 13,
   "metadata": {
    "cell_id": "00011-69d2932e-9af3-4a1c-9f73-71fa38ffc762",
    "deepnote_cell_type": "code",
    "deepnote_to_be_reexecuted": false,
    "execution_millis": 15138,
    "execution_start": 1617210437408,
    "source_hash": "e99f09fa",
    "tags": []
   },
   "outputs": [
    {
     "data": {
      "text/plain": [
       "[]"
      ]
     },
     "execution_count": 13,
     "metadata": {},
     "output_type": "execute_result"
    }
   ],
   "source": [
    "df_tgv_1er.select('Origine', 'Destination').exceptAll(df_tgv_1er.select('Origine', 'Destination').dropDuplicates()).collect()"
   ]
  },
  {
   "cell_type": "markdown",
   "metadata": {
    "cell_id": "00015-602db82e-ee82-41c8-8d8b-98872844e5ae",
    "deepnote_cell_type": "markdown",
    "tags": []
   },
   "source": [
    "- créer une fonction itineraryPrice(station1=`'Origine'`, station2=`'Destination'`) qui estimera le prix du trajet en 1ère classe entre les 2 noms de gares passés en paramètres\n",
    "- cette fonction devra utiliser PySpark pour exploiter les datasets choisis"
   ]
  },
  {
   "cell_type": "markdown",
   "metadata": {
    "cell_id": "00015-dcbf4d6e-2b09-48f3-b147-6369f0bbd863",
    "deepnote_cell_type": "markdown",
    "tags": []
   },
   "source": [
    "## 5. Estimation du prix"
   ]
  },
  {
   "cell_type": "code",
   "execution_count": 14,
   "metadata": {
    "cell_id": "00013-cde4bfe1-b68f-40e6-8feb-ff67036d5884",
    "deepnote_cell_type": "code",
    "deepnote_to_be_reexecuted": false,
    "execution_millis": 49,
    "execution_start": 1617210452549,
    "source_hash": "685fe10",
    "tags": []
   },
   "outputs": [],
   "source": [
    "def itineraryPrice(origine, destination):\n",
    "    try:\n",
    "        origine = origine.strip().upper()\n",
    "        destination = destination.strip().upper()\n",
    "        itinerary = df_tgv_1er.where(f\"(Origine = '{origine}' and Destination = '{destination}' or Origine = '{destination}' and Destination = '{origine}')\")\n",
    "        price = 0\n",
    "        it_collect = itinerary.collect()\n",
    "        for it in it_collect :\n",
    "            price += it.Prix_1er\n",
    "\n",
    "        return round(price / len(it_collect), 2)\n",
    "    except Exception as e:\n",
    "        return None\n"
   ]
  },
  {
   "cell_type": "markdown",
   "metadata": {
    "cell_id": "00016-3ad107ec-8c97-4e81-9219-1557292ac1dd",
    "deepnote_cell_type": "markdown",
    "tags": []
   },
   "source": [
    "- lister 4 résultats d'appels de cette fonction avec des gares différentes pour chaque appel"
   ]
  },
  {
   "cell_type": "code",
   "execution_count": 15,
   "metadata": {
    "cell_id": "00016-d2ac603c-fbfe-4380-89b4-df0a4ec4d0f4",
    "deepnote_cell_type": "code",
    "deepnote_to_be_reexecuted": false,
    "execution_millis": 962,
    "execution_start": 1617210452603,
    "source_hash": "99804730",
    "tags": []
   },
   "outputs": [
    {
     "name": "stdout",
     "output_type": "stream",
     "text": [
      "23.5\n"
     ]
    }
   ],
   "source": [
    "print(itineraryPrice(\"tours\", \"chatellerault\"))"
   ]
  },
  {
   "cell_type": "code",
   "execution_count": 16,
   "metadata": {
    "cell_id": "00017-f758d908-674d-4b62-a69f-23fb5eb4058c",
    "deepnote_cell_type": "code",
    "deepnote_to_be_reexecuted": false,
    "execution_millis": 585,
    "execution_start": 1617210453569,
    "source_hash": "68e0c56b",
    "tags": []
   },
   "outputs": [
    {
     "name": "stdout",
     "output_type": "stream",
     "text": [
      "126.0\n"
     ]
    }
   ],
   "source": [
    "print(itineraryPrice(\"BELFORT MONTBELIARD TGV\", \"paris gare de lyon\"))"
   ]
  },
  {
   "cell_type": "code",
   "execution_count": 17,
   "metadata": {
    "cell_id": "00018-a4518d58-e212-49c3-ba63-31fe93303378",
    "deepnote_cell_type": "code",
    "deepnote_to_be_reexecuted": false,
    "execution_millis": 543,
    "execution_start": 1617210454127,
    "source_hash": "bb9535a5",
    "tags": []
   },
   "outputs": [
    {
     "name": "stdout",
     "output_type": "stream",
     "text": [
      "89.0\n"
     ]
    }
   ],
   "source": [
    "print(itineraryPrice(\"BESANCON FRANCHE COMTE TGV\", \"albertville\"))"
   ]
  },
  {
   "cell_type": "code",
   "execution_count": 18,
   "metadata": {
    "cell_id": "00019-6fdaee12-7b88-4c2b-b06e-5779daec02bb",
    "deepnote_cell_type": "code",
    "deepnote_to_be_reexecuted": false,
    "execution_millis": 490,
    "execution_start": 1617210454680,
    "source_hash": "b888e03d",
    "tags": []
   },
   "outputs": [
    {
     "name": "stdout",
     "output_type": "stream",
     "text": [
      "152.0\n"
     ]
    }
   ],
   "source": [
    "print(itineraryPrice(\"PARIS GARE DE LYON\", \"THONON LES BAINS\"))"
   ]
  },
  {
   "cell_type": "markdown",
   "metadata": {
    "cell_id": "00021-8a6f01af-37c0-4508-8cd3-671cd4785b28",
    "deepnote_cell_type": "markdown",
    "tags": []
   },
   "source": [
    "- la fonction devra retourner None dans le cas où :\n",
    "  - les gares passées en paramètre n'existent pas \n",
    "  - le prix pour le trajet est inexistant\n"
   ]
  },
  {
   "cell_type": "code",
   "execution_count": 19,
   "metadata": {
    "cell_id": "00023-abb578fb-7f20-48d1-8a2c-565cecda24f5",
    "deepnote_cell_type": "code",
    "deepnote_to_be_reexecuted": false,
    "execution_millis": 428,
    "execution_start": 1617210455166,
    "source_hash": "8f320e60",
    "tags": []
   },
   "outputs": [
    {
     "name": "stdout",
     "output_type": "stream",
     "text": [
      "None\n"
     ]
    }
   ],
   "source": [
    "print(itineraryPrice(\"LES AUBRAIS ORLEANS\", \"BABYLON\"))"
   ]
  },
  {
   "cell_type": "code",
   "execution_count": 20,
   "metadata": {
    "cell_id": "00025-f8b91488-5984-40ff-854d-f7ca1c5f3ae1",
    "deepnote_cell_type": "code",
    "deepnote_to_be_reexecuted": false,
    "execution_millis": 340,
    "execution_start": 1617210455591,
    "source_hash": "ff8bd956",
    "tags": []
   },
   "outputs": [
    {
     "name": "stdout",
     "output_type": "stream",
     "text": [
      "None\n"
     ]
    }
   ],
   "source": [
    "print(itineraryPrice(\"Trifouilly les oies\", \"LILLE FLANDRES\"))"
   ]
  },
  {
   "cell_type": "code",
   "execution_count": 21,
   "metadata": {
    "cell_id": "00024-8fbb0e64-a0d2-4167-af03-50064e5fee04",
    "deepnote_cell_type": "code",
    "deepnote_to_be_reexecuted": false,
    "execution_millis": 618,
    "execution_start": 1617210455942,
    "source_hash": "c9d7f76c",
    "tags": []
   },
   "outputs": [
    {
     "name": "stdout",
     "output_type": "stream",
     "text": [
      "None\n"
     ]
    }
   ],
   "source": [
    "print(itineraryPrice(\"Chartres\", \"paris gare de lyon\"))"
   ]
  },
  {
   "cell_type": "markdown",
   "metadata": {
    "cell_id": "00027-1bd94761-5958-4471-bf05-ba11daa93968",
    "deepnote_cell_type": "markdown",
    "tags": []
   },
   "source": [
    "## 6. Analyse des données"
   ]
  },
  {
   "cell_type": "markdown",
   "metadata": {
    "cell_id": "00025-99ca0132-7085-4569-b435-86e7404b5081",
    "deepnote_cell_type": "markdown",
    "tags": []
   },
   "source": [
    "2. Etablissez à l'aide du module python geopy un classement descendant des distances pour chaque trajets possible\n",
    "- transformer les gares en coordonnées, calculer la distance grâce à geopy et utiliser la fonction\n"
   ]
  },
  {
   "cell_type": "code",
   "execution_count": 22,
   "metadata": {
    "cell_id": "00021-6f6855a6-b439-4996-a3bc-9fd0355681fb",
    "deepnote_cell_type": "code",
    "deepnote_to_be_reexecuted": false,
    "execution_millis": 39,
    "execution_start": 1617210456409,
    "source_hash": "b613d73f",
    "tags": []
   },
   "outputs": [],
   "source": [
    "df_gare_loc_sql.createOrReplaceTempView(\"sncf_tgv_loc\")\n",
    "df_gare_loc = spark.sql(\"SELECT `Intitulé gare`, UT, RG, Latitude, Longitude FROM sncf_tgv_loc\")"
   ]
  },
  {
   "cell_type": "code",
   "execution_count": 23,
   "metadata": {
    "cell_id": "00027-d2d26f15-9194-463e-b6c8-4b55205260f1",
    "deepnote_cell_type": "code",
    "deepnote_to_be_reexecuted": false,
    "execution_millis": 62,
    "execution_start": 1617210456460,
    "source_hash": "770962e3",
    "tags": []
   },
   "outputs": [],
   "source": [
    "def similarTest(a, b):\n",
    "    print(a,b)\n",
    "    input_words = [i for i in [a[0], a[1], a[2]] if i]\n",
    "    #Levenshtein\n",
    "    similarity_list = [Levenshtein.ratio(s,b.title()) for s in input_words]\n",
    "    return max(similarity_list)"
   ]
  },
  {
   "cell_type": "code",
   "execution_count": 24,
   "metadata": {
    "cell_id": "00038-626067a0-c03b-4063-8291-5d95115b6a1c",
    "deepnote_cell_type": "code",
    "deepnote_to_be_reexecuted": false,
    "execution_millis": 20,
    "execution_start": 1617210456525,
    "source_hash": "2aa4c1d5",
    "tags": []
   },
   "outputs": [],
   "source": [
    "def changeStructure(iterator):\n",
    "    final_iterator = []\n",
    "    for x in iterator:\n",
    "        final_iterator.append((x[0], x[4], x[5], similarTest([x[1], x[2], x[3]], x[0])))   \n",
    "    return iter(final_iterator)\n",
    "\n",
    "def convertToPairwiseRD(iterator):\n",
    "    final_iterator = []\n",
    "    for x in iterator:\n",
    "        final_iterator.append((x[0], x))   \n",
    "    return iter(final_iterator)"
   ]
  },
  {
   "cell_type": "code",
   "execution_count": 25,
   "metadata": {
    "cell_id": "00029-2fcef9ed-5b8b-403d-80ca-48fa4fbd12ff",
    "deepnote_cell_type": "code",
    "deepnote_to_be_reexecuted": false,
    "execution_millis": 102448,
    "execution_start": 1617210511128,
    "output_cleared": false,
    "source_hash": "a89e0332",
    "tags": []
   },
   "outputs": [
    {
     "name": "stdout",
     "output_type": "stream",
     "text": [
      "Split in 5 partitions\n"
     ]
    }
   ],
   "source": [
    "df_tgv_1er.createOrReplaceTempView(\"SNCF_tgv_gares\")\n",
    "df_tgv_gares = spark.sql(\"(SELECT Origine AS gare_name FROM SNCF_tgv_gares) UNION (SELECT Destination AS gare_name FROM SNCF_tgv_gares)\")\n",
    "df_tgv_gares = df_tgv_gares.join(df_gare_loc)\n",
    "df_tgv_gares = df_tgv_gares.repartition(5)\n",
    "df_tgv_gares = df_tgv_gares.rdd.mapPartitions(changeStructure)\n",
    "columns_name = [\"gare_name\",\"Latitude\",\"Longitude\",\"similarity\"]\n",
    "print(f\"Split in {df_tgv_gares.getNumPartitions()} partitions\")\n",
    "\n",
    "df_tgv_gares = (df_tgv_gares\n",
    "  .mapPartitions(convertToPairwiseRD)  # Convert to PairwiseRD\n",
    "  # Take maximum of the passed arguments by the last element (key)\n",
    "  # equivalent to:\n",
    "  # lambda x, y: x if x[-1] > y[-1] else y\n",
    "  .reduceByKey(lambda x1, x2: max(x1, x2, key=lambda x: x[-1])) \n",
    "  .values()) # Drop keys\n",
    "\n",
    "df_tgv_gares.collect()\n",
    "df_tgv_gares = df_tgv_gares.toDF(columns_name)\n"
   ]
  },
  {
   "cell_type": "code",
   "execution_count": 26,
   "metadata": {
    "cell_id": "00041-2567490a-788f-42bb-82e9-8fe6736e1787",
    "deepnote_cell_type": "code",
    "deepnote_to_be_reexecuted": false,
    "execution_millis": 229,
    "execution_start": 1617210626178,
    "source_hash": "6731ff42",
    "tags": []
   },
   "outputs": [
    {
     "name": "stdout",
     "output_type": "stream",
     "text": [
      "330\n",
      "+------------------+----------+----------+------------------+\n",
      "|         gare_name|  Latitude| Longitude|        similarity|\n",
      "+------------------+----------+----------+------------------+\n",
      "|LA BAULE ESCOUBLAC| 47.288690| -2.389102|0.9444444444444444|\n",
      "|           morlaix| 48.577970| -3.832514|               1.0|\n",
      "|        BAR LE DUC| 48.773308|  5.166822|               0.7|\n",
      "|  THONON LES BAINS| 46.369004|  6.481669|            0.8125|\n",
      "|         PORNICHET|47.2705354|-2.3445765|               1.0|\n",
      "+------------------+----------+----------+------------------+\n",
      "only showing top 5 rows\n",
      "\n"
     ]
    }
   ],
   "source": [
    "print(df_tgv_gares.count())\n",
    "df_tgv_gares.show(5)"
   ]
  },
  {
   "cell_type": "code",
   "execution_count": 27,
   "metadata": {
    "cell_id": "00031-49a4bd08-905d-493d-b8f8-f53d610c3330",
    "deepnote_cell_type": "code",
    "deepnote_to_be_reexecuted": false,
    "execution_millis": 25,
    "execution_start": 1617210647458,
    "source_hash": "a24c9b50",
    "tags": []
   },
   "outputs": [
    {
     "name": "stdout",
     "output_type": "stream",
     "text": [
      "+--------------------+--------------------+--------------------+----------+---------+\n",
      "|       Intitulé gare|                  UT|                  RG|  Latitude|Longitude|\n",
      "+--------------------+--------------------+--------------------+----------+---------+\n",
      "| Lycée Henri Sellier|LIVRY GARGAN GARE...|GARES B IDF LIGNE T4|  48.91646|  2.51504|\n",
      "|          Bena Fanes|ENVEITG HALTE DE ...|GARES C LANGUEDOC...|42.4580782|1.9167264|\n",
      "|        Fontpédrouse|FONTPEDROUSE ST T...|GARES C LANGUEDOC...|42.5138062|2.1886585|\n",
      "|                Nyer|          NYERS GARE|GARES C LANGUEDOC...|42.5416979|2.2630177|\n",
      "|Prades - Molitg-l...|PRADES MOLITG LES...|GARES C LANGUEDOC...|42.6170988|2.4294184|\n",
      "+--------------------+--------------------+--------------------+----------+---------+\n",
      "only showing top 5 rows\n",
      "\n"
     ]
    }
   ],
   "source": [
    "df_gare_loc.show(5)"
   ]
  },
  {
   "cell_type": "code",
   "execution_count": 28,
   "metadata": {
    "cell_id": "00042-0d1d5115-f02c-43a1-8437-3fa3829dc919",
    "deepnote_cell_type": "code",
    "deepnote_to_be_reexecuted": true,
    "execution_millis": 398,
    "source_hash": "b61a502f",
    "tags": []
   },
   "outputs": [
    {
     "name": "stdout",
     "output_type": "stream",
     "text": [
      "+--------------+--------------------+--------+---------+\n",
      "|       Origine|         Destination|Prix_1er|Prix_2eme|\n",
      "+--------------+--------------------+--------+---------+\n",
      "|LILLE FLANDRES|                AGDE|   188.0|    150.0|\n",
      "|         ARRAS|                SETE|   188.0|    150.0|\n",
      "|     PERPIGNAN|  TGV HAUTE PICARDIE|   188.0|    150.0|\n",
      "|    DOLE VILLE|PARIS MONTPARNASS...|   106.0|     76.0|\n",
      "|        COLMAR|         MACON VILLE|    90.0|     72.0|\n",
      "+--------------+--------------------+--------+---------+\n",
      "only showing top 5 rows\n",
      "\n"
     ]
    }
   ],
   "source": [
    "df_tgv_1er.show(5)"
   ]
  },
  {
   "cell_type": "code",
   "execution_count": 29,
   "metadata": {
    "cell_id": "00047-da8d3e9a-29cc-4ccc-aa46-64100f8d086b",
    "deepnote_cell_type": "code",
    "deepnote_to_be_reexecuted": true,
    "execution_millis": 2594,
    "source_hash": "f52f4439",
    "tags": []
   },
   "outputs": [
    {
     "name": "stdout",
     "output_type": "stream",
     "text": [
      "+-------------------+---------------+--------+---------+----------------+-----------------+--------------------+---------------------+\n",
      "|            Origine|    Destination|Prix_1er|Prix_2eme|Origine_Latitude|Origine_Longitude|Destination_Latitude|Destination_Longitude|\n",
      "+-------------------+---------------+--------+---------+----------------+-----------------+--------------------+---------------------+\n",
      "|        AVIGNON TGV|    CARCASSONNE|    69.0|     54.0|       43.921586|         4.786079|           43.218029|             2.351824|\n",
      "|        DIJON VILLE|    CARCASSONNE|   141.0|    107.0|       49.353931|         6.169543|           43.218029|             2.351824|\n",
      "|            AVIGNON|    CARCASSONNE|    69.0|     54.0|        50.40723|          2.83365|           43.218029|             2.351824|\n",
      "|               AGEN|    CARCASSONNE|    54.0|     37.0|       44.208311|         0.620932|           43.218029|             2.351824|\n",
      "|   BORDEAUX ST JEAN|    CARCASSONNE|    81.0|     53.0|       44.825873|        -0.556697|           43.218029|             2.351824|\n",
      "|     LILLE FLANDRES|    CARCASSONNE|   188.0|    150.0|       50.636577|         3.069870|           43.218029|             2.351824|\n",
      "|AIX EN PROVENCE TGV|    CARCASSONNE|    75.0|     58.0|       43.455237|         5.317534|           43.218029|             2.351824|\n",
      "|            BEZIERS|    CARCASSONNE|    27.0|     18.5|       43.336330|         3.218873|           43.218029|             2.351824|\n",
      "|            ROUBAIX|CROIX WASQUEHAL|     4.8|      1.6|        50.69561|          3.16348|          50.6785574|            3.1380315|\n",
      "|          TOURCOING|CROIX WASQUEHAL|     5.8|      2.7|        50.71683|          3.16804|          50.6785574|            3.1380315|\n",
      "+-------------------+---------------+--------+---------+----------------+-----------------+--------------------+---------------------+\n",
      "only showing top 10 rows\n",
      "\n"
     ]
    }
   ],
   "source": [
    "df_tgv_1er.createOrReplaceTempView(\"df_tgv_1er\")\n",
    "df_tgv_gares.createOrReplaceTempView(\"df_tgv_gares\")\n",
    "df_tgv_coords_od = spark.sql(\"\\\n",
    "SELECT\\\n",
    "  p.Origine,\\\n",
    "  p.Destination, \\\n",
    "  p.Prix_1er, \\\n",
    "  p.Prix_2eme, \\\n",
    "  p.Origine_Latitude, \\\n",
    "  p.Origine_Longitude, \\\n",
    "  g.Latitude AS Destination_Latitude, \\\n",
    "  g.Longitude AS Destination_Longitude \\\n",
    "from \\\n",
    "  (\\\n",
    "  SELECT \\\n",
    "      p.Origine, \\\n",
    "      p.Destination, \\\n",
    "      p.Prix_1er, \\\n",
    "      p.Prix_2eme, \\\n",
    "      g.Latitude AS Origine_Latitude, \\\n",
    "      g.Longitude AS Origine_Longitude \\\n",
    "  from df_tgv_1er p, \\\n",
    "    df_tgv_gares g \\\n",
    "  WHERE \\\n",
    "    p.Origine == g.gare_name\\\n",
    "    ) p, \\\n",
    "  df_tgv_gares g \\\n",
    "WHERE \\\n",
    "  p.Destination == g.gare_name\")\n",
    "\n",
    "df_tgv_coords_od.show(10)"
   ]
  },
  {
   "cell_type": "code",
   "execution_count": 30,
   "metadata": {
    "cell_id": "00048-7bcc2b3f-08da-49f7-8c4a-b9958f798aa3",
    "deepnote_cell_type": "code",
    "deepnote_to_be_reexecuted": true,
    "execution_millis": 7,
    "source_hash": "3a52c5e1",
    "tags": []
   },
   "outputs": [],
   "source": [
    "def get_distance(tr) :\n",
    "    try:\n",
    "        geocode_or = (float(tr[4]), float(tr[5]))\n",
    "        geocode_dest = (float(tr[6]), float(tr[7]))\n",
    "        distance = geopy.distance.distance(lonlat(*geocode_or), lonlat(*geocode_dest)).km\n",
    "        return (tr[0], tr[1], tr[2], tr[3], distance)\n",
    "    except Exception as e:\n",
    "       print(e)\n",
    "       return None"
   ]
  },
  {
   "cell_type": "code",
   "execution_count": 31,
   "metadata": {
    "cell_id": "00046-c4ff584c-fc6f-4f1a-9d0a-cfd8e6dc5e5f",
    "deepnote_cell_type": "code",
    "deepnote_to_be_reexecuted": true,
    "execution_millis": 1595,
    "source_hash": "12aba01d",
    "tags": []
   },
   "outputs": [
    {
     "data": {
      "text/plain": [
       "[('AVIGNON TGV', 'CARCASSONNE', 69.0, 54.0, 280.2955736153092),\n",
       " ('DIJON VILLE', 'CARCASSONNE', 141.0, 107.0, 801.2750435903873)]"
      ]
     },
     "execution_count": 31,
     "metadata": {},
     "output_type": "execute_result"
    }
   ],
   "source": [
    "geolocator = Nominatim(user_agent=\"SparkSNCF\")\n",
    "df_tgv_coords_od = df_tgv_coords_od.rdd.map(get_distance)\n",
    "df_tgv_coords_od.take(2)"
   ]
  },
  {
   "cell_type": "code",
   "execution_count": 32,
   "metadata": {
    "cell_id": "00023-43f45e96-ec2d-475b-8424-6405a6828e99",
    "deepnote_cell_type": "code",
    "deepnote_to_be_reexecuted": true,
    "execution_millis": 13799,
    "source_hash": "90a1d30",
    "tags": []
   },
   "outputs": [],
   "source": [
    "df_tgv_coords_od_sample = df_tgv_coords_od.sample(False,0.1,1)\n",
    "\n",
    "columns_name = [\"Origine\", \"Destination\",\"Prix_1er\",\"Prix_2eme\", \"Distance\"]\n",
    "df_tgv_coords_od_sample = df_tgv_coords_od_sample.toDF(columns_name)\n",
    "df_tgv_coords_od_sample = df_tgv_coords_od_sample.toPandas()"
   ]
  },
  {
   "cell_type": "code",
   "execution_count": 33,
   "metadata": {
    "cell_id": "00042-71db0816-cd1a-40e7-861a-7e65e95ce305",
    "deepnote_cell_type": "code",
    "deepnote_to_be_reexecuted": true,
    "execution_millis": 671,
    "source_hash": "5700aefe",
    "tags": []
   },
   "outputs": [
    {
     "data": {
      "text/plain": [
       "<AxesSubplot:xlabel='Distance', ylabel='Prix_1er'>"
      ]
     },
     "execution_count": 33,
     "metadata": {},
     "output_type": "execute_result"
    },
    {
     "data": {
      "image/png": "[encoded data removed]",
      "text/plain": [
       "<Figure size 432x288 with 1 Axes>"
      ]
     },
     "metadata": {
      "needs_background": "light"
     },
     "output_type": "display_data"
    }
   ],
   "source": [
    "sns.lineplot(x=\"Distance\", y=\"Prix_1er\",\n",
    "             data=df_tgv_coords_od_sample)\n",
    "sns.lineplot(x=\"Distance\", y=\"Prix_2eme\",\n",
    "             data=df_tgv_coords_od_sample)"
   ]
  },
  {
   "cell_type": "code",
   "execution_count": 34,
   "metadata": {
    "cell_id": "00052-168d8698-3022-4590-bec6-63de115a32d9",
    "deepnote_cell_type": "code",
    "deepnote_to_be_reexecuted": true,
    "execution_millis": 26,
    "source_hash": "79e2f9dd",
    "tags": []
   },
   "outputs": [
    {
     "name": "stdout",
     "output_type": "stream",
     "text": [
      "<class 'pandas.core.frame.DataFrame'>\n",
      "RangeIndex: 391 entries, 0 to 390\n",
      "Data columns (total 5 columns):\n",
      " #   Column       Non-Null Count  Dtype  \n",
      "---  ------       --------------  -----  \n",
      " 0   Origine      391 non-null    object \n",
      " 1   Destination  391 non-null    object \n",
      " 2   Prix_1er     391 non-null    float64\n",
      " 3   Prix_2eme    391 non-null    float64\n",
      " 4   Distance     391 non-null    float64\n",
      "dtypes: float64(3), object(2)\n",
      "memory usage: 15.4+ KB\n"
     ]
    }
   ],
   "source": [
    "df_tgv_coords_od_sample.info()"
   ]
  }
 ],
 "metadata": {
  "deepnote": {},
  "deepnoteSessionId": "dea8a0f5-35e3-4468-94eb-804ff5fc7baa",
  "deepnote_execution_queue": [],
  "deepnote_notebook_id": "0f460af1-1872-4aa4-804e-36716dbf15fd",
  "kernelspec": {
   "display_name": "Python 3",
   "language": "python",
   "name": "python3"
  },
  "language_info": {
   "codemirror_mode": {
    "name": "ipython",
    "version": 3
   },
   "file_extension": ".py",
   "mimetype": "text/x-python",
   "name": "python",
   "nbconvert_exporter": "python",
   "pygments_lexer": "ipython3",
   "version": "3.7.8"
  }
 },
 "nbformat": 4,
 "nbformat_minor": 4
}
